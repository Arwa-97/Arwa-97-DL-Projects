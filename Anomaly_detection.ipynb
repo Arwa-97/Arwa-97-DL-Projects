{
 "cells": [
  {
   "cell_type": "markdown",
   "metadata": {
    "id": "wjGIcaf6pB6U"
   },
   "source": [
    "# Unsupervised Anomaly Detection for Vehicle Claims Dataset"
   ]
  },
  {
   "cell_type": "markdown",
   "metadata": {
    "id": "Fi-Z64Oy4cbb"
   },
   "source": [
    "# 1. Introduction\n",
    "Anomaly detection is the process of identifying abnormal activities/patterns in a dataset. Anomalous data are found in bank activities, insurance, law and regulations, health care, and more.\n",
    "There are three main classes for anomaly detection techniques supervised learning, semi-supervised learning, and unsupervised learning. The choice depends on the dataset whether it is a labeled dataset or an unlabeled dataset. In this project, we explore the Vehicle Claims dataset introduced by (Chawda et al., 2022) It consists of fraudulent insurance claims for automotive repairs. Insurance claims can be identified as an anomaly if it amounts to the sum of repairing an engine when in fact the claim issue is fixing a tire. We will analyze the data and perform label encoding on the categorical data types. Further, we will train the data using Isolation Forest and autoencoder unsupervised learning techniques to predict the outliers."
   ]
  },
  {
   "cell_type": "markdown",
   "metadata": {
    "id": "4VQDbHIA4elt"
   },
   "source": [
    "# 2. Methodology"
   ]
  },
  {
   "cell_type": "markdown",
   "metadata": {
    "id": "Xt82xBRNUO_v"
   },
   "source": [
    "## 2.1 Dataset\n",
    "The dataset used in this project was retrieved from recent work (Chawda et al., 2022). The dataset consists of 25 columns and 268255 records, 56749 of which are anomalous points. They replaced missing values with anomalous points because they believed it will be useful for explainable models to determine the cell values due to which the data point behaves as an anomaly."
   ]
  },
  {
   "cell_type": "markdown",
   "metadata": {
    "id": "SoIm_MklUSfb"
   },
   "source": [
    "## 2.2 Data Preprocessing"
   ]
  },
  {
   "cell_type": "markdown",
   "metadata": {
    "id": "nF4TVVjUkC4r"
   },
   "source": [
    "### 2.2.1 Data Tools\n",
    "The tools used in this project are:\n",
    "*   Google Colab is a tool that allows us to write and execute python code through the browser.\n",
    "*   Dask is an open-source Python library for parallel computing."
   ]
  },
  {
   "cell_type": "markdown",
   "metadata": {
    "id": "7PmIco8Nhe3u"
   },
   "source": [
    "### 2.2.2 Data Cleaning\n",
    "For data cleaning we dropped unnecessary columns which are Genmodel_ID, Adv_year, Adv_month, Adv_day, category_anomaly."
   ]
  },
  {
   "cell_type": "markdown",
   "metadata": {
    "id": "18KuQy29i1w_"
   },
   "source": [
    "### 2.2.3 Lebel Encoding\n",
    "Label encoding is the process of converting each categorical feature into a numerical value. We performed label encoding in each categorical column in the dataset."
   ]
  },
  {
   "cell_type": "code",
   "execution_count": 1,
   "metadata": {
    "id": "GcLTUEmhrlMz"
   },
   "outputs": [],
   "source": [
    "from dask.distributed import Client\n",
    "import dask.dataframe as dd\n",
    "import pandas as pd\n",
    "import numpy as np\n",
    "import seaborn as sns\n",
    "import matplotlib.pyplot as plt\n",
    "from sklearn.ensemble import IsolationForest\n",
    "from sklearn.model_selection import train_test_split\n",
    "from sklearn.ensemble._hist_gradient_boosting.gradient_boosting import LabelEncoder\n",
    "from sklearn.metrics import classification_report, confusion_matrix"
   ]
  },
  {
   "cell_type": "code",
   "execution_count": 2,
   "metadata": {
    "colab": {
     "base_uri": "https://localhost:8080/"
    },
    "id": "tk4X9kTg6Pe6",
    "outputId": "fb94ce75-f0db-4d80-e3b6-6c0991707361"
   },
   "outputs": [
    {
     "name": "stdout",
     "output_type": "stream",
     "text": [
      "Mounted at /content/drive\n"
     ]
    }
   ],
   "source": [
    "from google.colab import drive\n",
    "drive.mount('/content/drive')"
   ]
  },
  {
   "cell_type": "code",
   "execution_count": 3,
   "metadata": {
    "colab": {
     "base_uri": "https://localhost:8080/",
     "height": 162
    },
    "id": "b5b2d7sNAdgb",
    "outputId": "76a222f1-6156-4b00-8194-090dc3225baa"
   },
   "outputs": [
    {
     "data": {
      "text/html": [
       "<div>\n",
       "    <div style=\"width: 24px; height: 24px; background-color: #e1e1e1; border: 3px solid #9D9D9D; border-radius: 5px; position: absolute;\"> </div>\n",
       "    <div style=\"margin-left: 48px;\">\n",
       "        <h3 style=\"margin-bottom: 0px;\">Client</h3>\n",
       "        <p style=\"color: #9D9D9D; margin-bottom: 0px;\">Client-88f4c5d3-8881-11ed-81c2-0242ac1c000c</p>\n",
       "        <table style=\"width: 100%; text-align: left;\">\n",
       "\n",
       "        <tr>\n",
       "        \n",
       "            <td style=\"text-align: left;\"><strong>Connection method:</strong> Cluster object</td>\n",
       "            <td style=\"text-align: left;\"><strong>Cluster type:</strong> distributed.LocalCluster</td>\n",
       "        \n",
       "        </tr>\n",
       "\n",
       "        \n",
       "            <tr>\n",
       "                <td style=\"text-align: left;\">\n",
       "                    <strong>Dashboard: </strong> <a href=\"http://127.0.0.1:8787/status\" target=\"_blank\">http://127.0.0.1:8787/status</a>\n",
       "                </td>\n",
       "                <td style=\"text-align: left;\"></td>\n",
       "            </tr>\n",
       "        \n",
       "\n",
       "        </table>\n",
       "\n",
       "        \n",
       "            <details>\n",
       "            <summary style=\"margin-bottom: 20px;\"><h3 style=\"display: inline;\">Cluster Info</h3></summary>\n",
       "            <div class=\"jp-RenderedHTMLCommon jp-RenderedHTML jp-mod-trusted jp-OutputArea-output\">\n",
       "    <div style=\"width: 24px; height: 24px; background-color: #e1e1e1; border: 3px solid #9D9D9D; border-radius: 5px; position: absolute;\">\n",
       "    </div>\n",
       "    <div style=\"margin-left: 48px;\">\n",
       "        <h3 style=\"margin-bottom: 0px; margin-top: 0px;\">LocalCluster</h3>\n",
       "        <p style=\"color: #9D9D9D; margin-bottom: 0px;\">becce164</p>\n",
       "        <table style=\"width: 100%; text-align: left;\">\n",
       "            <tr>\n",
       "                <td style=\"text-align: left;\">\n",
       "                    <strong>Dashboard:</strong> <a href=\"http://127.0.0.1:8787/status\" target=\"_blank\">http://127.0.0.1:8787/status</a>\n",
       "                </td>\n",
       "                <td style=\"text-align: left;\">\n",
       "                    <strong>Workers:</strong> 4\n",
       "                </td>\n",
       "            </tr>\n",
       "            <tr>\n",
       "                <td style=\"text-align: left;\">\n",
       "                    <strong>Total threads:</strong> 16\n",
       "                </td>\n",
       "                <td style=\"text-align: left;\">\n",
       "                    <strong>Total memory:</strong> 14.90 GiB\n",
       "                </td>\n",
       "            </tr>\n",
       "            \n",
       "            <tr>\n",
       "    <td style=\"text-align: left;\"><strong>Status:</strong> running</td>\n",
       "    <td style=\"text-align: left;\"><strong>Using processes:</strong> True</td>\n",
       "</tr>\n",
       "\n",
       "            \n",
       "        </table>\n",
       "\n",
       "        <details>\n",
       "            <summary style=\"margin-bottom: 20px;\">\n",
       "                <h3 style=\"display: inline;\">Scheduler Info</h3>\n",
       "            </summary>\n",
       "\n",
       "            <div style=\"\">\n",
       "    <div>\n",
       "        <div style=\"width: 24px; height: 24px; background-color: #FFF7E5; border: 3px solid #FF6132; border-radius: 5px; position: absolute;\"> </div>\n",
       "        <div style=\"margin-left: 48px;\">\n",
       "            <h3 style=\"margin-bottom: 0px;\">Scheduler</h3>\n",
       "            <p style=\"color: #9D9D9D; margin-bottom: 0px;\">Scheduler-3b450817-ca76-4f6f-9225-11ffeed4aecc</p>\n",
       "            <table style=\"width: 100%; text-align: left;\">\n",
       "                <tr>\n",
       "                    <td style=\"text-align: left;\">\n",
       "                        <strong>Comm:</strong> tcp://127.0.0.1:35519\n",
       "                    </td>\n",
       "                    <td style=\"text-align: left;\">\n",
       "                        <strong>Workers:</strong> 4\n",
       "                    </td>\n",
       "                </tr>\n",
       "                <tr>\n",
       "                    <td style=\"text-align: left;\">\n",
       "                        <strong>Dashboard:</strong> <a href=\"http://127.0.0.1:8787/status\" target=\"_blank\">http://127.0.0.1:8787/status</a>\n",
       "                    </td>\n",
       "                    <td style=\"text-align: left;\">\n",
       "                        <strong>Total threads:</strong> 16\n",
       "                    </td>\n",
       "                </tr>\n",
       "                <tr>\n",
       "                    <td style=\"text-align: left;\">\n",
       "                        <strong>Started:</strong> Just now\n",
       "                    </td>\n",
       "                    <td style=\"text-align: left;\">\n",
       "                        <strong>Total memory:</strong> 14.90 GiB\n",
       "                    </td>\n",
       "                </tr>\n",
       "            </table>\n",
       "        </div>\n",
       "    </div>\n",
       "\n",
       "    <details style=\"margin-left: 48px;\">\n",
       "        <summary style=\"margin-bottom: 20px;\">\n",
       "            <h3 style=\"display: inline;\">Workers</h3>\n",
       "        </summary>\n",
       "\n",
       "        \n",
       "        <div style=\"margin-bottom: 20px;\">\n",
       "            <div style=\"width: 24px; height: 24px; background-color: #DBF5FF; border: 3px solid #4CC9FF; border-radius: 5px; position: absolute;\"> </div>\n",
       "            <div style=\"margin-left: 48px;\">\n",
       "            <details>\n",
       "                <summary>\n",
       "                    <h4 style=\"margin-bottom: 0px; display: inline;\">Worker: 0</h4>\n",
       "                </summary>\n",
       "                <table style=\"width: 100%; text-align: left;\">\n",
       "                    <tr>\n",
       "                        <td style=\"text-align: left;\">\n",
       "                            <strong>Comm: </strong> tcp://127.0.0.1:39925\n",
       "                        </td>\n",
       "                        <td style=\"text-align: left;\">\n",
       "                            <strong>Total threads: </strong> 4\n",
       "                        </td>\n",
       "                    </tr>\n",
       "                    <tr>\n",
       "                        <td style=\"text-align: left;\">\n",
       "                            <strong>Dashboard: </strong> <a href=\"http://127.0.0.1:38011/status\" target=\"_blank\">http://127.0.0.1:38011/status</a>\n",
       "                        </td>\n",
       "                        <td style=\"text-align: left;\">\n",
       "                            <strong>Memory: </strong> 3.73 GiB\n",
       "                        </td>\n",
       "                    </tr>\n",
       "                    <tr>\n",
       "                        <td style=\"text-align: left;\">\n",
       "                            <strong>Nanny: </strong> tcp://127.0.0.1:35127\n",
       "                        </td>\n",
       "                        <td style=\"text-align: left;\"></td>\n",
       "                    </tr>\n",
       "                    <tr>\n",
       "                        <td colspan=\"2\" style=\"text-align: left;\">\n",
       "                            <strong>Local directory: </strong> /content/dask-worker-space/worker-jo800eee\n",
       "                        </td>\n",
       "                    </tr>\n",
       "\n",
       "                    \n",
       "\n",
       "                    \n",
       "\n",
       "                </table>\n",
       "            </details>\n",
       "            </div>\n",
       "        </div>\n",
       "        \n",
       "        <div style=\"margin-bottom: 20px;\">\n",
       "            <div style=\"width: 24px; height: 24px; background-color: #DBF5FF; border: 3px solid #4CC9FF; border-radius: 5px; position: absolute;\"> </div>\n",
       "            <div style=\"margin-left: 48px;\">\n",
       "            <details>\n",
       "                <summary>\n",
       "                    <h4 style=\"margin-bottom: 0px; display: inline;\">Worker: 1</h4>\n",
       "                </summary>\n",
       "                <table style=\"width: 100%; text-align: left;\">\n",
       "                    <tr>\n",
       "                        <td style=\"text-align: left;\">\n",
       "                            <strong>Comm: </strong> tcp://127.0.0.1:46603\n",
       "                        </td>\n",
       "                        <td style=\"text-align: left;\">\n",
       "                            <strong>Total threads: </strong> 4\n",
       "                        </td>\n",
       "                    </tr>\n",
       "                    <tr>\n",
       "                        <td style=\"text-align: left;\">\n",
       "                            <strong>Dashboard: </strong> <a href=\"http://127.0.0.1:39857/status\" target=\"_blank\">http://127.0.0.1:39857/status</a>\n",
       "                        </td>\n",
       "                        <td style=\"text-align: left;\">\n",
       "                            <strong>Memory: </strong> 3.73 GiB\n",
       "                        </td>\n",
       "                    </tr>\n",
       "                    <tr>\n",
       "                        <td style=\"text-align: left;\">\n",
       "                            <strong>Nanny: </strong> tcp://127.0.0.1:38623\n",
       "                        </td>\n",
       "                        <td style=\"text-align: left;\"></td>\n",
       "                    </tr>\n",
       "                    <tr>\n",
       "                        <td colspan=\"2\" style=\"text-align: left;\">\n",
       "                            <strong>Local directory: </strong> /content/dask-worker-space/worker-5i8p3nap\n",
       "                        </td>\n",
       "                    </tr>\n",
       "\n",
       "                    \n",
       "\n",
       "                    \n",
       "\n",
       "                </table>\n",
       "            </details>\n",
       "            </div>\n",
       "        </div>\n",
       "        \n",
       "        <div style=\"margin-bottom: 20px;\">\n",
       "            <div style=\"width: 24px; height: 24px; background-color: #DBF5FF; border: 3px solid #4CC9FF; border-radius: 5px; position: absolute;\"> </div>\n",
       "            <div style=\"margin-left: 48px;\">\n",
       "            <details>\n",
       "                <summary>\n",
       "                    <h4 style=\"margin-bottom: 0px; display: inline;\">Worker: 2</h4>\n",
       "                </summary>\n",
       "                <table style=\"width: 100%; text-align: left;\">\n",
       "                    <tr>\n",
       "                        <td style=\"text-align: left;\">\n",
       "                            <strong>Comm: </strong> tcp://127.0.0.1:43095\n",
       "                        </td>\n",
       "                        <td style=\"text-align: left;\">\n",
       "                            <strong>Total threads: </strong> 4\n",
       "                        </td>\n",
       "                    </tr>\n",
       "                    <tr>\n",
       "                        <td style=\"text-align: left;\">\n",
       "                            <strong>Dashboard: </strong> <a href=\"http://127.0.0.1:37213/status\" target=\"_blank\">http://127.0.0.1:37213/status</a>\n",
       "                        </td>\n",
       "                        <td style=\"text-align: left;\">\n",
       "                            <strong>Memory: </strong> 3.73 GiB\n",
       "                        </td>\n",
       "                    </tr>\n",
       "                    <tr>\n",
       "                        <td style=\"text-align: left;\">\n",
       "                            <strong>Nanny: </strong> tcp://127.0.0.1:32793\n",
       "                        </td>\n",
       "                        <td style=\"text-align: left;\"></td>\n",
       "                    </tr>\n",
       "                    <tr>\n",
       "                        <td colspan=\"2\" style=\"text-align: left;\">\n",
       "                            <strong>Local directory: </strong> /content/dask-worker-space/worker-ei7xhdyl\n",
       "                        </td>\n",
       "                    </tr>\n",
       "\n",
       "                    \n",
       "\n",
       "                    \n",
       "\n",
       "                </table>\n",
       "            </details>\n",
       "            </div>\n",
       "        </div>\n",
       "        \n",
       "        <div style=\"margin-bottom: 20px;\">\n",
       "            <div style=\"width: 24px; height: 24px; background-color: #DBF5FF; border: 3px solid #4CC9FF; border-radius: 5px; position: absolute;\"> </div>\n",
       "            <div style=\"margin-left: 48px;\">\n",
       "            <details>\n",
       "                <summary>\n",
       "                    <h4 style=\"margin-bottom: 0px; display: inline;\">Worker: 3</h4>\n",
       "                </summary>\n",
       "                <table style=\"width: 100%; text-align: left;\">\n",
       "                    <tr>\n",
       "                        <td style=\"text-align: left;\">\n",
       "                            <strong>Comm: </strong> tcp://127.0.0.1:35921\n",
       "                        </td>\n",
       "                        <td style=\"text-align: left;\">\n",
       "                            <strong>Total threads: </strong> 4\n",
       "                        </td>\n",
       "                    </tr>\n",
       "                    <tr>\n",
       "                        <td style=\"text-align: left;\">\n",
       "                            <strong>Dashboard: </strong> <a href=\"http://127.0.0.1:45127/status\" target=\"_blank\">http://127.0.0.1:45127/status</a>\n",
       "                        </td>\n",
       "                        <td style=\"text-align: left;\">\n",
       "                            <strong>Memory: </strong> 3.73 GiB\n",
       "                        </td>\n",
       "                    </tr>\n",
       "                    <tr>\n",
       "                        <td style=\"text-align: left;\">\n",
       "                            <strong>Nanny: </strong> tcp://127.0.0.1:41397\n",
       "                        </td>\n",
       "                        <td style=\"text-align: left;\"></td>\n",
       "                    </tr>\n",
       "                    <tr>\n",
       "                        <td colspan=\"2\" style=\"text-align: left;\">\n",
       "                            <strong>Local directory: </strong> /content/dask-worker-space/worker-6i6w8hxo\n",
       "                        </td>\n",
       "                    </tr>\n",
       "\n",
       "                    \n",
       "\n",
       "                    \n",
       "\n",
       "                </table>\n",
       "            </details>\n",
       "            </div>\n",
       "        </div>\n",
       "        \n",
       "\n",
       "    </details>\n",
       "</div>\n",
       "\n",
       "        </details>\n",
       "    </div>\n",
       "</div>\n",
       "            </details>\n",
       "        \n",
       "\n",
       "    </div>\n",
       "</div>"
      ],
      "text/plain": [
       "<Client: 'tcp://127.0.0.1:35519' processes=4 threads=16, memory=14.90 GiB>"
      ]
     },
     "execution_count": 3,
     "metadata": {},
     "output_type": "execute_result"
    }
   ],
   "source": [
    "client = Client(threads_per_worker=4,n_workers=4,memory_limit='4GB')\n",
    "client"
   ]
  },
  {
   "cell_type": "code",
   "execution_count": 4,
   "metadata": {
    "id": "jKK0sXGoAjLi"
   },
   "outputs": [],
   "source": [
    "cliams_data = dd.read_csv(\"/content/drive/My Drive/Colab Notebooks/vehicle_claims/vehicle_claims_labeled.csv\")"
   ]
  },
  {
   "cell_type": "code",
   "execution_count": 5,
   "metadata": {
    "id": "fOW-EvUwAtBr"
   },
   "outputs": [],
   "source": [
    "cliams_data = cliams_data.compute()"
   ]
  },
  {
   "cell_type": "code",
   "execution_count": 6,
   "metadata": {
    "colab": {
     "base_uri": "https://localhost:8080/"
    },
    "id": "5BexJsX5A7kv",
    "outputId": "43367921-fb75-4001-f2bf-691d06722dca"
   },
   "outputs": [
    {
     "data": {
      "text/plain": [
       "(268255, 25)"
      ]
     },
     "execution_count": 6,
     "metadata": {},
     "output_type": "execute_result"
    }
   ],
   "source": [
    "cliams_data.shape"
   ]
  },
  {
   "cell_type": "code",
   "execution_count": 7,
   "metadata": {
    "colab": {
     "base_uri": "https://localhost:8080/",
     "height": 404
    },
    "id": "dlZBkqFVBlNq",
    "outputId": "2f34f6ea-172c-4839-e622-52fabcf75fe3"
   },
   "outputs": [
    {
     "data": {
      "text/html": [
       "\n",
       "  <div id=\"df-45d881af-0f3b-46e2-b0f9-7e89c24ba51b\">\n",
       "    <div class=\"colab-df-container\">\n",
       "      <div>\n",
       "<style scoped>\n",
       "    .dataframe tbody tr th:only-of-type {\n",
       "        vertical-align: middle;\n",
       "    }\n",
       "\n",
       "    .dataframe tbody tr th {\n",
       "        vertical-align: top;\n",
       "    }\n",
       "\n",
       "    .dataframe thead th {\n",
       "        text-align: right;\n",
       "    }\n",
       "</style>\n",
       "<table border=\"1\" class=\"dataframe\">\n",
       "  <thead>\n",
       "    <tr style=\"text-align: right;\">\n",
       "      <th></th>\n",
       "      <th>Maker</th>\n",
       "      <th>Genmodel</th>\n",
       "      <th>Genmodel_ID</th>\n",
       "      <th>Adv_year</th>\n",
       "      <th>Adv_month</th>\n",
       "      <th>Color</th>\n",
       "      <th>Reg_year</th>\n",
       "      <th>Bodytype</th>\n",
       "      <th>Runned_Miles</th>\n",
       "      <th>Engin_size</th>\n",
       "      <th>...</th>\n",
       "      <th>issue</th>\n",
       "      <th>issue_id</th>\n",
       "      <th>Adv_day</th>\n",
       "      <th>breakdown_date</th>\n",
       "      <th>repair_complexity</th>\n",
       "      <th>repair_cost</th>\n",
       "      <th>repair_hours</th>\n",
       "      <th>Label</th>\n",
       "      <th>category_anomaly</th>\n",
       "      <th>repair_date</th>\n",
       "    </tr>\n",
       "  </thead>\n",
       "  <tbody>\n",
       "    <tr>\n",
       "      <th>0</th>\n",
       "      <td>Bentley</td>\n",
       "      <td>Arnage</td>\n",
       "      <td>10_1</td>\n",
       "      <td>2018</td>\n",
       "      <td>4</td>\n",
       "      <td>Silver</td>\n",
       "      <td>2000.0</td>\n",
       "      <td>Saloon</td>\n",
       "      <td>60000</td>\n",
       "      <td>6.8L</td>\n",
       "      <td>...</td>\n",
       "      <td>Starter Motor Issue</td>\n",
       "      <td>0</td>\n",
       "      <td>19</td>\n",
       "      <td>2018-04-19</td>\n",
       "      <td>3</td>\n",
       "      <td>395.000</td>\n",
       "      <td>9.0</td>\n",
       "      <td>0</td>\n",
       "      <td>0</td>\n",
       "      <td>2018-04-21</td>\n",
       "    </tr>\n",
       "    <tr>\n",
       "      <th>1</th>\n",
       "      <td>Bentley</td>\n",
       "      <td>Arnage</td>\n",
       "      <td>10_1</td>\n",
       "      <td>2018</td>\n",
       "      <td>6</td>\n",
       "      <td>Grey</td>\n",
       "      <td>2002.0</td>\n",
       "      <td>Saloon</td>\n",
       "      <td>44000</td>\n",
       "      <td>6.8L</td>\n",
       "      <td>...</td>\n",
       "      <td>Radiator Leaking</td>\n",
       "      <td>0</td>\n",
       "      <td>15</td>\n",
       "      <td>2018-06-15</td>\n",
       "      <td>3</td>\n",
       "      <td>695.000</td>\n",
       "      <td>6.0</td>\n",
       "      <td>0</td>\n",
       "      <td>0</td>\n",
       "      <td>2018-06-16</td>\n",
       "    </tr>\n",
       "    <tr>\n",
       "      <th>2</th>\n",
       "      <td>Bentley</td>\n",
       "      <td>Arnage</td>\n",
       "      <td>10_1</td>\n",
       "      <td>2017</td>\n",
       "      <td>11</td>\n",
       "      <td>Blue</td>\n",
       "      <td>2002.0</td>\n",
       "      <td>Saloon</td>\n",
       "      <td>55000</td>\n",
       "      <td>6.8L</td>\n",
       "      <td>...</td>\n",
       "      <td>Steering Wheel Shaking</td>\n",
       "      <td>0</td>\n",
       "      <td>10</td>\n",
       "      <td>2017-11-10</td>\n",
       "      <td>3</td>\n",
       "      <td>89.999</td>\n",
       "      <td>3.0</td>\n",
       "      <td>0</td>\n",
       "      <td>0</td>\n",
       "      <td>2017-11-10</td>\n",
       "    </tr>\n",
       "    <tr>\n",
       "      <th>3</th>\n",
       "      <td>Bentley</td>\n",
       "      <td>Arnage</td>\n",
       "      <td>10_1</td>\n",
       "      <td>2018</td>\n",
       "      <td>4</td>\n",
       "      <td>Green</td>\n",
       "      <td>2003.0</td>\n",
       "      <td>Saloon</td>\n",
       "      <td>14000</td>\n",
       "      <td>6.8L</td>\n",
       "      <td>...</td>\n",
       "      <td>Electrical Issue</td>\n",
       "      <td>4</td>\n",
       "      <td>14</td>\n",
       "      <td>2018-04-14</td>\n",
       "      <td>3</td>\n",
       "      <td>224.844</td>\n",
       "      <td>6.0</td>\n",
       "      <td>0</td>\n",
       "      <td>0</td>\n",
       "      <td>2018-04-15</td>\n",
       "    </tr>\n",
       "    <tr>\n",
       "      <th>4</th>\n",
       "      <td>Bentley</td>\n",
       "      <td>Arnage</td>\n",
       "      <td>10_1</td>\n",
       "      <td>2017</td>\n",
       "      <td>11</td>\n",
       "      <td>Grey</td>\n",
       "      <td>2003.0</td>\n",
       "      <td>Saloon</td>\n",
       "      <td>61652</td>\n",
       "      <td>6.8L</td>\n",
       "      <td>...</td>\n",
       "      <td>Windscreen Crack</td>\n",
       "      <td>0</td>\n",
       "      <td>6</td>\n",
       "      <td>2017-11-06</td>\n",
       "      <td>3</td>\n",
       "      <td>75.933</td>\n",
       "      <td>3.0</td>\n",
       "      <td>0</td>\n",
       "      <td>0</td>\n",
       "      <td>2017-11-06</td>\n",
       "    </tr>\n",
       "  </tbody>\n",
       "</table>\n",
       "<p>5 rows × 25 columns</p>\n",
       "</div>\n",
       "      <button class=\"colab-df-convert\" onclick=\"convertToInteractive('df-45d881af-0f3b-46e2-b0f9-7e89c24ba51b')\"\n",
       "              title=\"Convert this dataframe to an interactive table.\"\n",
       "              style=\"display:none;\">\n",
       "        \n",
       "  <svg xmlns=\"http://www.w3.org/2000/svg\" height=\"24px\"viewBox=\"0 0 24 24\"\n",
       "       width=\"24px\">\n",
       "    <path d=\"M0 0h24v24H0V0z\" fill=\"none\"/>\n",
       "    <path d=\"M18.56 5.44l.94 2.06.94-2.06 2.06-.94-2.06-.94-.94-2.06-.94 2.06-2.06.94zm-11 1L8.5 8.5l.94-2.06 2.06-.94-2.06-.94L8.5 2.5l-.94 2.06-2.06.94zm10 10l.94 2.06.94-2.06 2.06-.94-2.06-.94-.94-2.06-.94 2.06-2.06.94z\"/><path d=\"M17.41 7.96l-1.37-1.37c-.4-.4-.92-.59-1.43-.59-.52 0-1.04.2-1.43.59L10.3 9.45l-7.72 7.72c-.78.78-.78 2.05 0 2.83L4 21.41c.39.39.9.59 1.41.59.51 0 1.02-.2 1.41-.59l7.78-7.78 2.81-2.81c.8-.78.8-2.07 0-2.86zM5.41 20L4 18.59l7.72-7.72 1.47 1.35L5.41 20z\"/>\n",
       "  </svg>\n",
       "      </button>\n",
       "      \n",
       "  <style>\n",
       "    .colab-df-container {\n",
       "      display:flex;\n",
       "      flex-wrap:wrap;\n",
       "      gap: 12px;\n",
       "    }\n",
       "\n",
       "    .colab-df-convert {\n",
       "      background-color: #E8F0FE;\n",
       "      border: none;\n",
       "      border-radius: 50%;\n",
       "      cursor: pointer;\n",
       "      display: none;\n",
       "      fill: #1967D2;\n",
       "      height: 32px;\n",
       "      padding: 0 0 0 0;\n",
       "      width: 32px;\n",
       "    }\n",
       "\n",
       "    .colab-df-convert:hover {\n",
       "      background-color: #E2EBFA;\n",
       "      box-shadow: 0px 1px 2px rgba(60, 64, 67, 0.3), 0px 1px 3px 1px rgba(60, 64, 67, 0.15);\n",
       "      fill: #174EA6;\n",
       "    }\n",
       "\n",
       "    [theme=dark] .colab-df-convert {\n",
       "      background-color: #3B4455;\n",
       "      fill: #D2E3FC;\n",
       "    }\n",
       "\n",
       "    [theme=dark] .colab-df-convert:hover {\n",
       "      background-color: #434B5C;\n",
       "      box-shadow: 0px 1px 3px 1px rgba(0, 0, 0, 0.15);\n",
       "      filter: drop-shadow(0px 1px 2px rgba(0, 0, 0, 0.3));\n",
       "      fill: #FFFFFF;\n",
       "    }\n",
       "  </style>\n",
       "\n",
       "      <script>\n",
       "        const buttonEl =\n",
       "          document.querySelector('#df-45d881af-0f3b-46e2-b0f9-7e89c24ba51b button.colab-df-convert');\n",
       "        buttonEl.style.display =\n",
       "          google.colab.kernel.accessAllowed ? 'block' : 'none';\n",
       "\n",
       "        async function convertToInteractive(key) {\n",
       "          const element = document.querySelector('#df-45d881af-0f3b-46e2-b0f9-7e89c24ba51b');\n",
       "          const dataTable =\n",
       "            await google.colab.kernel.invokeFunction('convertToInteractive',\n",
       "                                                     [key], {});\n",
       "          if (!dataTable) return;\n",
       "\n",
       "          const docLinkHtml = 'Like what you see? Visit the ' +\n",
       "            '<a target=\"_blank\" href=https://colab.research.google.com/notebooks/data_table.ipynb>data table notebook</a>'\n",
       "            + ' to learn more about interactive tables.';\n",
       "          element.innerHTML = '';\n",
       "          dataTable['output_type'] = 'display_data';\n",
       "          await google.colab.output.renderOutput(dataTable, element);\n",
       "          const docLink = document.createElement('div');\n",
       "          docLink.innerHTML = docLinkHtml;\n",
       "          element.appendChild(docLink);\n",
       "        }\n",
       "      </script>\n",
       "    </div>\n",
       "  </div>\n",
       "  "
      ],
      "text/plain": [
       "     Maker  Genmodel  Genmodel_ID  Adv_year  Adv_month   Color  Reg_year  \\\n",
       "0  Bentley    Arnage         10_1      2018          4  Silver    2000.0   \n",
       "1  Bentley    Arnage         10_1      2018          6    Grey    2002.0   \n",
       "2  Bentley    Arnage         10_1      2017         11    Blue    2002.0   \n",
       "3  Bentley    Arnage         10_1      2018          4   Green    2003.0   \n",
       "4  Bentley    Arnage         10_1      2017         11    Grey    2003.0   \n",
       "\n",
       "  Bodytype  Runned_Miles Engin_size  ...                   issue issue_id  \\\n",
       "0   Saloon         60000       6.8L  ...     Starter Motor Issue        0   \n",
       "1   Saloon         44000       6.8L  ...        Radiator Leaking        0   \n",
       "2   Saloon         55000       6.8L  ...  Steering Wheel Shaking        0   \n",
       "3   Saloon         14000       6.8L  ...        Electrical Issue        4   \n",
       "4   Saloon         61652       6.8L  ...        Windscreen Crack        0   \n",
       "\n",
       "   Adv_day  breakdown_date  repair_complexity repair_cost  repair_hours  \\\n",
       "0       19      2018-04-19                  3     395.000           9.0   \n",
       "1       15      2018-06-15                  3     695.000           6.0   \n",
       "2       10      2017-11-10                  3      89.999           3.0   \n",
       "3       14      2018-04-14                  3     224.844           6.0   \n",
       "4        6      2017-11-06                  3      75.933           3.0   \n",
       "\n",
       "   Label category_anomaly  repair_date  \n",
       "0      0                0   2018-04-21  \n",
       "1      0                0   2018-06-16  \n",
       "2      0                0   2017-11-10  \n",
       "3      0                0   2018-04-15  \n",
       "4      0                0   2017-11-06  \n",
       "\n",
       "[5 rows x 25 columns]"
      ]
     },
     "execution_count": 7,
     "metadata": {},
     "output_type": "execute_result"
    }
   ],
   "source": [
    "cliams_data.head()"
   ]
  },
  {
   "cell_type": "code",
   "execution_count": 8,
   "metadata": {
    "colab": {
     "base_uri": "https://localhost:8080/",
     "height": 143
    },
    "id": "oSvrREcMCp10",
    "outputId": "914ba020-a56f-4855-a695-964416966d1f"
   },
   "outputs": [
    {
     "data": {
      "text/html": [
       "\n",
       "  <div id=\"df-8138701e-4ccb-4700-8d4c-36a96debf659\">\n",
       "    <div class=\"colab-df-container\">\n",
       "      <div>\n",
       "<style scoped>\n",
       "    .dataframe tbody tr th:only-of-type {\n",
       "        vertical-align: middle;\n",
       "    }\n",
       "\n",
       "    .dataframe tbody tr th {\n",
       "        vertical-align: top;\n",
       "    }\n",
       "\n",
       "    .dataframe thead th {\n",
       "        text-align: right;\n",
       "    }\n",
       "</style>\n",
       "<table border=\"1\" class=\"dataframe\">\n",
       "  <thead>\n",
       "    <tr style=\"text-align: right;\">\n",
       "      <th></th>\n",
       "      <th>Label</th>\n",
       "    </tr>\n",
       "    <tr>\n",
       "      <th>Label</th>\n",
       "      <th></th>\n",
       "    </tr>\n",
       "  </thead>\n",
       "  <tbody>\n",
       "    <tr>\n",
       "      <th>0</th>\n",
       "      <td>211506</td>\n",
       "    </tr>\n",
       "    <tr>\n",
       "      <th>1</th>\n",
       "      <td>56749</td>\n",
       "    </tr>\n",
       "  </tbody>\n",
       "</table>\n",
       "</div>\n",
       "      <button class=\"colab-df-convert\" onclick=\"convertToInteractive('df-8138701e-4ccb-4700-8d4c-36a96debf659')\"\n",
       "              title=\"Convert this dataframe to an interactive table.\"\n",
       "              style=\"display:none;\">\n",
       "        \n",
       "  <svg xmlns=\"http://www.w3.org/2000/svg\" height=\"24px\"viewBox=\"0 0 24 24\"\n",
       "       width=\"24px\">\n",
       "    <path d=\"M0 0h24v24H0V0z\" fill=\"none\"/>\n",
       "    <path d=\"M18.56 5.44l.94 2.06.94-2.06 2.06-.94-2.06-.94-.94-2.06-.94 2.06-2.06.94zm-11 1L8.5 8.5l.94-2.06 2.06-.94-2.06-.94L8.5 2.5l-.94 2.06-2.06.94zm10 10l.94 2.06.94-2.06 2.06-.94-2.06-.94-.94-2.06-.94 2.06-2.06.94z\"/><path d=\"M17.41 7.96l-1.37-1.37c-.4-.4-.92-.59-1.43-.59-.52 0-1.04.2-1.43.59L10.3 9.45l-7.72 7.72c-.78.78-.78 2.05 0 2.83L4 21.41c.39.39.9.59 1.41.59.51 0 1.02-.2 1.41-.59l7.78-7.78 2.81-2.81c.8-.78.8-2.07 0-2.86zM5.41 20L4 18.59l7.72-7.72 1.47 1.35L5.41 20z\"/>\n",
       "  </svg>\n",
       "      </button>\n",
       "      \n",
       "  <style>\n",
       "    .colab-df-container {\n",
       "      display:flex;\n",
       "      flex-wrap:wrap;\n",
       "      gap: 12px;\n",
       "    }\n",
       "\n",
       "    .colab-df-convert {\n",
       "      background-color: #E8F0FE;\n",
       "      border: none;\n",
       "      border-radius: 50%;\n",
       "      cursor: pointer;\n",
       "      display: none;\n",
       "      fill: #1967D2;\n",
       "      height: 32px;\n",
       "      padding: 0 0 0 0;\n",
       "      width: 32px;\n",
       "    }\n",
       "\n",
       "    .colab-df-convert:hover {\n",
       "      background-color: #E2EBFA;\n",
       "      box-shadow: 0px 1px 2px rgba(60, 64, 67, 0.3), 0px 1px 3px 1px rgba(60, 64, 67, 0.15);\n",
       "      fill: #174EA6;\n",
       "    }\n",
       "\n",
       "    [theme=dark] .colab-df-convert {\n",
       "      background-color: #3B4455;\n",
       "      fill: #D2E3FC;\n",
       "    }\n",
       "\n",
       "    [theme=dark] .colab-df-convert:hover {\n",
       "      background-color: #434B5C;\n",
       "      box-shadow: 0px 1px 3px 1px rgba(0, 0, 0, 0.15);\n",
       "      filter: drop-shadow(0px 1px 2px rgba(0, 0, 0, 0.3));\n",
       "      fill: #FFFFFF;\n",
       "    }\n",
       "  </style>\n",
       "\n",
       "      <script>\n",
       "        const buttonEl =\n",
       "          document.querySelector('#df-8138701e-4ccb-4700-8d4c-36a96debf659 button.colab-df-convert');\n",
       "        buttonEl.style.display =\n",
       "          google.colab.kernel.accessAllowed ? 'block' : 'none';\n",
       "\n",
       "        async function convertToInteractive(key) {\n",
       "          const element = document.querySelector('#df-8138701e-4ccb-4700-8d4c-36a96debf659');\n",
       "          const dataTable =\n",
       "            await google.colab.kernel.invokeFunction('convertToInteractive',\n",
       "                                                     [key], {});\n",
       "          if (!dataTable) return;\n",
       "\n",
       "          const docLinkHtml = 'Like what you see? Visit the ' +\n",
       "            '<a target=\"_blank\" href=https://colab.research.google.com/notebooks/data_table.ipynb>data table notebook</a>'\n",
       "            + ' to learn more about interactive tables.';\n",
       "          element.innerHTML = '';\n",
       "          dataTable['output_type'] = 'display_data';\n",
       "          await google.colab.output.renderOutput(dataTable, element);\n",
       "          const docLink = document.createElement('div');\n",
       "          docLink.innerHTML = docLinkHtml;\n",
       "          element.appendChild(docLink);\n",
       "        }\n",
       "      </script>\n",
       "    </div>\n",
       "  </div>\n",
       "  "
      ],
      "text/plain": [
       "        Label\n",
       "Label        \n",
       "0      211506\n",
       "1       56749"
      ]
     },
     "execution_count": 8,
     "metadata": {},
     "output_type": "execute_result"
    }
   ],
   "source": [
    "cliams_data.groupby('Label')[[\"Label\"]].count()"
   ]
  },
  {
   "cell_type": "code",
   "execution_count": 9,
   "metadata": {
    "colab": {
     "base_uri": "https://localhost:8080/",
     "height": 786
    },
    "id": "JOgpKREoFxeZ",
    "outputId": "b5cdecda-1316-468c-f286-a757012bdf00"
   },
   "outputs": [
    {
     "data": {
      "image/png": "[encoded data removed]",
      "text/plain": [
       "<Figure size 1296x864 with 2 Axes>"
      ]
     },
     "metadata": {
      "needs_background": "light"
     },
     "output_type": "display_data"
    }
   ],
   "source": [
    "plt.figure(figsize = (18, 12))\n",
    "\n",
    "corr = cliams_data.corr()\n",
    "\n",
    "sns.heatmap(data = corr, annot = True, fmt = '.2g', linewidth = 1)\n",
    "plt.show()"
   ]
  },
  {
   "cell_type": "code",
   "execution_count": 10,
   "metadata": {
    "id": "lVpLle9hVOkv"
   },
   "outputs": [],
   "source": [
    "cliams_data_unlabeled = cliams_data.drop([' Genmodel_ID','Adv_year', 'Adv_month',\n",
    "                                     'Adv_day','Label', \n",
    "                                     'category_anomaly'], axis=1)"
   ]
  },
  {
   "cell_type": "code",
   "execution_count": 11,
   "metadata": {
    "colab": {
     "base_uri": "https://localhost:8080/"
    },
    "id": "CChGcLWp88UO",
    "outputId": "141dc54a-97d3-4180-99da-daa921fe0643"
   },
   "outputs": [
    {
     "data": {
      "text/plain": [
       "Maker                0\n",
       " Genmodel            0\n",
       "Color                0\n",
       "Reg_year             0\n",
       "Bodytype             0\n",
       "Runned_Miles         0\n",
       "Engin_size           0\n",
       "Gearbox              0\n",
       "Fuel_type            0\n",
       "Price                0\n",
       "Seat_num             0\n",
       "Door_num             0\n",
       "issue                0\n",
       "issue_id             0\n",
       "breakdown_date       0\n",
       "repair_complexity    0\n",
       "repair_cost          0\n",
       "repair_hours         0\n",
       "repair_date          0\n",
       "dtype: int64"
      ]
     },
     "execution_count": 11,
     "metadata": {},
     "output_type": "execute_result"
    }
   ],
   "source": [
    "cliams_data_unlabeled.isna().sum()"
   ]
  },
  {
   "cell_type": "code",
   "execution_count": 12,
   "metadata": {
    "colab": {
     "base_uri": "https://localhost:8080/",
     "height": 374
    },
    "id": "B9w87aLHV6pO",
    "outputId": "4cb8a015-ca9b-4b98-f1d8-4c37345c6939"
   },
   "outputs": [
    {
     "data": {
      "text/html": [
       "\n",
       "  <div id=\"df-ea892113-6d82-4c6d-bb3c-560ac09c251d\">\n",
       "    <div class=\"colab-df-container\">\n",
       "      <div>\n",
       "<style scoped>\n",
       "    .dataframe tbody tr th:only-of-type {\n",
       "        vertical-align: middle;\n",
       "    }\n",
       "\n",
       "    .dataframe tbody tr th {\n",
       "        vertical-align: top;\n",
       "    }\n",
       "\n",
       "    .dataframe thead th {\n",
       "        text-align: right;\n",
       "    }\n",
       "</style>\n",
       "<table border=\"1\" class=\"dataframe\">\n",
       "  <thead>\n",
       "    <tr style=\"text-align: right;\">\n",
       "      <th></th>\n",
       "      <th>Maker</th>\n",
       "      <th>Genmodel</th>\n",
       "      <th>Color</th>\n",
       "      <th>Reg_year</th>\n",
       "      <th>Bodytype</th>\n",
       "      <th>Runned_Miles</th>\n",
       "      <th>Engin_size</th>\n",
       "      <th>Gearbox</th>\n",
       "      <th>Fuel_type</th>\n",
       "      <th>Price</th>\n",
       "      <th>Seat_num</th>\n",
       "      <th>Door_num</th>\n",
       "      <th>issue</th>\n",
       "      <th>issue_id</th>\n",
       "      <th>breakdown_date</th>\n",
       "      <th>repair_complexity</th>\n",
       "      <th>repair_cost</th>\n",
       "      <th>repair_hours</th>\n",
       "      <th>repair_date</th>\n",
       "    </tr>\n",
       "  </thead>\n",
       "  <tbody>\n",
       "    <tr>\n",
       "      <th>0</th>\n",
       "      <td>Bentley</td>\n",
       "      <td>Arnage</td>\n",
       "      <td>Silver</td>\n",
       "      <td>2000.0</td>\n",
       "      <td>Saloon</td>\n",
       "      <td>60000</td>\n",
       "      <td>6.8L</td>\n",
       "      <td>Automatic</td>\n",
       "      <td>Petrol</td>\n",
       "      <td>21500.0</td>\n",
       "      <td>5.0</td>\n",
       "      <td>4.0</td>\n",
       "      <td>Starter Motor Issue</td>\n",
       "      <td>0</td>\n",
       "      <td>2018-04-19</td>\n",
       "      <td>3</td>\n",
       "      <td>395.000</td>\n",
       "      <td>9.0</td>\n",
       "      <td>2018-04-21</td>\n",
       "    </tr>\n",
       "    <tr>\n",
       "      <th>1</th>\n",
       "      <td>Bentley</td>\n",
       "      <td>Arnage</td>\n",
       "      <td>Grey</td>\n",
       "      <td>2002.0</td>\n",
       "      <td>Saloon</td>\n",
       "      <td>44000</td>\n",
       "      <td>6.8L</td>\n",
       "      <td>Automatic</td>\n",
       "      <td>Petrol</td>\n",
       "      <td>28750.0</td>\n",
       "      <td>5.0</td>\n",
       "      <td>4.0</td>\n",
       "      <td>Radiator Leaking</td>\n",
       "      <td>0</td>\n",
       "      <td>2018-06-15</td>\n",
       "      <td>3</td>\n",
       "      <td>695.000</td>\n",
       "      <td>6.0</td>\n",
       "      <td>2018-06-16</td>\n",
       "    </tr>\n",
       "    <tr>\n",
       "      <th>2</th>\n",
       "      <td>Bentley</td>\n",
       "      <td>Arnage</td>\n",
       "      <td>Blue</td>\n",
       "      <td>2002.0</td>\n",
       "      <td>Saloon</td>\n",
       "      <td>55000</td>\n",
       "      <td>6.8L</td>\n",
       "      <td>Automatic</td>\n",
       "      <td>Petrol</td>\n",
       "      <td>29999.0</td>\n",
       "      <td>5.0</td>\n",
       "      <td>4.0</td>\n",
       "      <td>Steering Wheel Shaking</td>\n",
       "      <td>0</td>\n",
       "      <td>2017-11-10</td>\n",
       "      <td>3</td>\n",
       "      <td>89.999</td>\n",
       "      <td>3.0</td>\n",
       "      <td>2017-11-10</td>\n",
       "    </tr>\n",
       "    <tr>\n",
       "      <th>3</th>\n",
       "      <td>Bentley</td>\n",
       "      <td>Arnage</td>\n",
       "      <td>Green</td>\n",
       "      <td>2003.0</td>\n",
       "      <td>Saloon</td>\n",
       "      <td>14000</td>\n",
       "      <td>6.8L</td>\n",
       "      <td>Automatic</td>\n",
       "      <td>Petrol</td>\n",
       "      <td>34948.0</td>\n",
       "      <td>5.0</td>\n",
       "      <td>4.0</td>\n",
       "      <td>Electrical Issue</td>\n",
       "      <td>4</td>\n",
       "      <td>2018-04-14</td>\n",
       "      <td>3</td>\n",
       "      <td>224.844</td>\n",
       "      <td>6.0</td>\n",
       "      <td>2018-04-15</td>\n",
       "    </tr>\n",
       "    <tr>\n",
       "      <th>4</th>\n",
       "      <td>Bentley</td>\n",
       "      <td>Arnage</td>\n",
       "      <td>Grey</td>\n",
       "      <td>2003.0</td>\n",
       "      <td>Saloon</td>\n",
       "      <td>61652</td>\n",
       "      <td>6.8L</td>\n",
       "      <td>Automatic</td>\n",
       "      <td>Petrol</td>\n",
       "      <td>26555.0</td>\n",
       "      <td>5.0</td>\n",
       "      <td>4.0</td>\n",
       "      <td>Windscreen Crack</td>\n",
       "      <td>0</td>\n",
       "      <td>2017-11-06</td>\n",
       "      <td>3</td>\n",
       "      <td>75.933</td>\n",
       "      <td>3.0</td>\n",
       "      <td>2017-11-06</td>\n",
       "    </tr>\n",
       "  </tbody>\n",
       "</table>\n",
       "</div>\n",
       "      <button class=\"colab-df-convert\" onclick=\"convertToInteractive('df-ea892113-6d82-4c6d-bb3c-560ac09c251d')\"\n",
       "              title=\"Convert this dataframe to an interactive table.\"\n",
       "              style=\"display:none;\">\n",
       "        \n",
       "  <svg xmlns=\"http://www.w3.org/2000/svg\" height=\"24px\"viewBox=\"0 0 24 24\"\n",
       "       width=\"24px\">\n",
       "    <path d=\"M0 0h24v24H0V0z\" fill=\"none\"/>\n",
       "    <path d=\"M18.56 5.44l.94 2.06.94-2.06 2.06-.94-2.06-.94-.94-2.06-.94 2.06-2.06.94zm-11 1L8.5 8.5l.94-2.06 2.06-.94-2.06-.94L8.5 2.5l-.94 2.06-2.06.94zm10 10l.94 2.06.94-2.06 2.06-.94-2.06-.94-.94-2.06-.94 2.06-2.06.94z\"/><path d=\"M17.41 7.96l-1.37-1.37c-.4-.4-.92-.59-1.43-.59-.52 0-1.04.2-1.43.59L10.3 9.45l-7.72 7.72c-.78.78-.78 2.05 0 2.83L4 21.41c.39.39.9.59 1.41.59.51 0 1.02-.2 1.41-.59l7.78-7.78 2.81-2.81c.8-.78.8-2.07 0-2.86zM5.41 20L4 18.59l7.72-7.72 1.47 1.35L5.41 20z\"/>\n",
       "  </svg>\n",
       "      </button>\n",
       "      \n",
       "  <style>\n",
       "    .colab-df-container {\n",
       "      display:flex;\n",
       "      flex-wrap:wrap;\n",
       "      gap: 12px;\n",
       "    }\n",
       "\n",
       "    .colab-df-convert {\n",
       "      background-color: #E8F0FE;\n",
       "      border: none;\n",
       "      border-radius: 50%;\n",
       "      cursor: pointer;\n",
       "      display: none;\n",
       "      fill: #1967D2;\n",
       "      height: 32px;\n",
       "      padding: 0 0 0 0;\n",
       "      width: 32px;\n",
       "    }\n",
       "\n",
       "    .colab-df-convert:hover {\n",
       "      background-color: #E2EBFA;\n",
       "      box-shadow: 0px 1px 2px rgba(60, 64, 67, 0.3), 0px 1px 3px 1px rgba(60, 64, 67, 0.15);\n",
       "      fill: #174EA6;\n",
       "    }\n",
       "\n",
       "    [theme=dark] .colab-df-convert {\n",
       "      background-color: #3B4455;\n",
       "      fill: #D2E3FC;\n",
       "    }\n",
       "\n",
       "    [theme=dark] .colab-df-convert:hover {\n",
       "      background-color: #434B5C;\n",
       "      box-shadow: 0px 1px 3px 1px rgba(0, 0, 0, 0.15);\n",
       "      filter: drop-shadow(0px 1px 2px rgba(0, 0, 0, 0.3));\n",
       "      fill: #FFFFFF;\n",
       "    }\n",
       "  </style>\n",
       "\n",
       "      <script>\n",
       "        const buttonEl =\n",
       "          document.querySelector('#df-ea892113-6d82-4c6d-bb3c-560ac09c251d button.colab-df-convert');\n",
       "        buttonEl.style.display =\n",
       "          google.colab.kernel.accessAllowed ? 'block' : 'none';\n",
       "\n",
       "        async function convertToInteractive(key) {\n",
       "          const element = document.querySelector('#df-ea892113-6d82-4c6d-bb3c-560ac09c251d');\n",
       "          const dataTable =\n",
       "            await google.colab.kernel.invokeFunction('convertToInteractive',\n",
       "                                                     [key], {});\n",
       "          if (!dataTable) return;\n",
       "\n",
       "          const docLinkHtml = 'Like what you see? Visit the ' +\n",
       "            '<a target=\"_blank\" href=https://colab.research.google.com/notebooks/data_table.ipynb>data table notebook</a>'\n",
       "            + ' to learn more about interactive tables.';\n",
       "          element.innerHTML = '';\n",
       "          dataTable['output_type'] = 'display_data';\n",
       "          await google.colab.output.renderOutput(dataTable, element);\n",
       "          const docLink = document.createElement('div');\n",
       "          docLink.innerHTML = docLinkHtml;\n",
       "          element.appendChild(docLink);\n",
       "        }\n",
       "      </script>\n",
       "    </div>\n",
       "  </div>\n",
       "  "
      ],
      "text/plain": [
       "     Maker  Genmodel   Color  Reg_year Bodytype  Runned_Miles Engin_size  \\\n",
       "0  Bentley    Arnage  Silver    2000.0   Saloon         60000       6.8L   \n",
       "1  Bentley    Arnage    Grey    2002.0   Saloon         44000       6.8L   \n",
       "2  Bentley    Arnage    Blue    2002.0   Saloon         55000       6.8L   \n",
       "3  Bentley    Arnage   Green    2003.0   Saloon         14000       6.8L   \n",
       "4  Bentley    Arnage    Grey    2003.0   Saloon         61652       6.8L   \n",
       "\n",
       "     Gearbox Fuel_type    Price  Seat_num  Door_num                   issue  \\\n",
       "0  Automatic    Petrol  21500.0       5.0       4.0     Starter Motor Issue   \n",
       "1  Automatic    Petrol  28750.0       5.0       4.0        Radiator Leaking   \n",
       "2  Automatic    Petrol  29999.0       5.0       4.0  Steering Wheel Shaking   \n",
       "3  Automatic    Petrol  34948.0       5.0       4.0        Electrical Issue   \n",
       "4  Automatic    Petrol  26555.0       5.0       4.0        Windscreen Crack   \n",
       "\n",
       "   issue_id breakdown_date  repair_complexity  repair_cost  repair_hours  \\\n",
       "0         0     2018-04-19                  3      395.000           9.0   \n",
       "1         0     2018-06-15                  3      695.000           6.0   \n",
       "2         0     2017-11-10                  3       89.999           3.0   \n",
       "3         4     2018-04-14                  3      224.844           6.0   \n",
       "4         0     2017-11-06                  3       75.933           3.0   \n",
       "\n",
       "  repair_date  \n",
       "0  2018-04-21  \n",
       "1  2018-06-16  \n",
       "2  2017-11-10  \n",
       "3  2018-04-15  \n",
       "4  2017-11-06  "
      ]
     },
     "execution_count": 12,
     "metadata": {},
     "output_type": "execute_result"
    }
   ],
   "source": [
    "cliams_data_unlabeled.head()"
   ]
  },
  {
   "cell_type": "code",
   "execution_count": 13,
   "metadata": {
    "colab": {
     "base_uri": "https://localhost:8080/",
     "height": 295
    },
    "id": "0apk8ZPErVDF",
    "outputId": "f619b862-c7a3-4a6d-ad36-ba363b98768c"
   },
   "outputs": [
    {
     "data": {
      "image/png": "[encoded data removed]",
      "text/plain": [
       "<Figure size 432x288 with 1 Axes>"
      ]
     },
     "metadata": {
      "needs_background": "light"
     },
     "output_type": "display_data"
    }
   ],
   "source": [
    "#Repair cost distribution over the dataset shape\n",
    "plt.scatter(range(cliams_data_unlabeled.shape[0]), np.sort(cliams_data_unlabeled['repair_cost'].values))\n",
    "plt.xlabel('index')\n",
    "plt.ylabel('Repair cost')\n",
    "plt.title(\"Repair cost distribution\")\n",
    "sns.despine()"
   ]
  },
  {
   "cell_type": "code",
   "execution_count": null,
   "metadata": {
    "id": "9VnvoK8ThHYu"
   },
   "outputs": [],
   "source": [
    "!pip3 install dask_ml"
   ]
  },
  {
   "cell_type": "code",
   "execution_count": 15,
   "metadata": {
    "id": "q8LLGZEGsivO"
   },
   "outputs": [],
   "source": [
    "from dask_ml import preprocessing"
   ]
  },
  {
   "cell_type": "code",
   "execution_count": 16,
   "metadata": {
    "id": "RSuFSjk-ZMZ2"
   },
   "outputs": [],
   "source": [
    "#label encoding\n",
    "for col in cliams_data_unlabeled.columns:\n",
    "  if cliams_data_unlabeled[col].dtype == \"object\":\n",
    "    label_encoder = preprocessing.LabelEncoder()\n",
    "    label_encoder.fit(list(cliams_data_unlabeled[col].astype(str).values))\n",
    "    cliams_data_unlabeled[col] = label_encoder.transform(list(cliams_data_unlabeled[col].astype(str).values))"
   ]
  },
  {
   "cell_type": "code",
   "execution_count": 17,
   "metadata": {
    "id": "wEDiDYSp5lxo"
   },
   "outputs": [],
   "source": [
    "#label encoding\n",
    "for col in cliams_data.columns:\n",
    "  if cliams_data[col].dtype == \"object\":\n",
    "    label_encoder = preprocessing.LabelEncoder()\n",
    "    label_encoder.fit(list(cliams_data[col].astype(str).values))\n",
    "    cliams_data[col] = label_encoder.transform(list(cliams_data[col].astype(str).values))"
   ]
  },
  {
   "cell_type": "markdown",
   "metadata": {
    "id": "GVswiDyO4o2E"
   },
   "source": [
    "# 3. Results"
   ]
  },
  {
   "cell_type": "markdown",
   "metadata": {
    "id": "eip0rmwTE4jx"
   },
   "source": [
    "## 3.1 Isolation Forest\n",
    "Isolation forest is an unsupervised learning technique built on an ensemble of binary isolation trees that identifies abnormal observations by randomly selecting a feature.\n",
    "\n",
    "In this model, we set the proportion of outliers in the dataset\n",
    "(contamination) to 0.01 and the number of estimators to 1000. The dataset was not split in this experiment. The whole dataset was used for training and testing.\n",
    "\n",
    "The accuracy of the model prediction was 79%. It predicted 210697 normal classes out of 211506 and 54875 anomalies out of 56749"
   ]
  },
  {
   "cell_type": "code",
   "execution_count": 18,
   "metadata": {
    "id": "rrWl0A8EYthd"
   },
   "outputs": [],
   "source": [
    "#contamination is used to define the threshold on the scores of the samples. (it should be in the range (0, 0.5])\n",
    "contamination = 0.01"
   ]
  },
  {
   "cell_type": "code",
   "execution_count": 19,
   "metadata": {
    "colab": {
     "base_uri": "https://localhost:8080/"
    },
    "id": "b5VMRfzBampm",
    "outputId": "0ffefa9f-3d4f-420e-f066-f5dd7037912b"
   },
   "outputs": [
    {
     "name": "stderr",
     "output_type": "stream",
     "text": [
      "/usr/local/lib/python3.8/dist-packages/sklearn/base.py:450: UserWarning: X does not have valid feature names, but IsolationForest was fitted with feature names\n",
      "  warnings.warn(\n"
     ]
    },
    {
     "name": "stdout",
     "output_type": "stream",
     "text": [
      "CPU times: user 2min 28s, sys: 4.3 s, total: 2min 33s\n",
      "Wall time: 2min 45s\n"
     ]
    },
    {
     "data": {
      "text/plain": [
       "IsolationForest(contamination=0.01, n_estimators=1000)"
      ]
     },
     "execution_count": 19,
     "metadata": {},
     "output_type": "execute_result"
    }
   ],
   "source": [
    "%%time\n",
    "model = IsolationForest(contamination=contamination, n_estimators=1000)\n",
    "model.fit(cliams_data_unlabeled)"
   ]
  },
  {
   "cell_type": "code",
   "execution_count": 20,
   "metadata": {
    "colab": {
     "base_uri": "https://localhost:8080/"
    },
    "id": "LtCIyxejbG_9",
    "outputId": "14739f4e-4ecc-4ff9-db07-95e123bdc0e2"
   },
   "outputs": [
    {
     "name": "stdout",
     "output_type": "stream",
     "text": [
      "0    265572\n",
      "1      2683\n",
      "Name: iforest, dtype: int64\n"
     ]
    }
   ],
   "source": [
    "cliams_data_unlabeled[\"iforest\"] = pd.Series(model.predict(cliams_data_unlabeled))\n",
    "cliams_data_unlabeled[\"iforest\"] = cliams_data_unlabeled[\"iforest\"].map({1: 0, -1: 1})\n",
    "print(cliams_data_unlabeled[\"iforest\"].value_counts())"
   ]
  },
  {
   "cell_type": "code",
   "execution_count": 21,
   "metadata": {
    "colab": {
     "base_uri": "https://localhost:8080/"
    },
    "id": "VEaxRfyLpqAq",
    "outputId": "0d9fbc30-1f18-4374-bb6a-60701d4570b1"
   },
   "outputs": [
    {
     "name": "stdout",
     "output_type": "stream",
     "text": [
      "CONFUSION MATRIX:\n",
      " [[210689    817]\n",
      " [ 54883   1866]]\n",
      "\n",
      "Classification Report:\n",
      "               precision    recall  f1-score   support\n",
      "\n",
      "           0       0.79      1.00      0.88    211506\n",
      "           1       0.70      0.03      0.06     56749\n",
      "\n",
      "    accuracy                           0.79    268255\n",
      "   macro avg       0.74      0.51      0.47    268255\n",
      "weighted avg       0.77      0.79      0.71    268255\n",
      "\n"
     ]
    }
   ],
   "source": [
    "print('CONFUSION MATRIX:\\n', confusion_matrix(cliams_data['Label'],cliams_data_unlabeled[\"iforest\"]))\n",
    "print(\"\\nClassification Report:\\n\", classification_report(cliams_data['Label'], cliams_data_unlabeled[\"iforest\"]))"
   ]
  },
  {
   "cell_type": "markdown",
   "metadata": {
    "id": "xWzpxbEkEmvx"
   },
   "source": [
    "## 3.2 AutoEncoders\n",
    "Auto-Encoders are unsupervised neural networks. They consist of two main layers encoder layer and the decoder layer. The encoder layer takes input and learns to encode that data into code. The decoder layer reconstructs the encoded data and creates an output (similar to the original data). This process can remove noise from the original data and allow us to detect abnormal status hence the anomaly detection. Autoencoder uses only normal data to train the model and all data to make predictions. Therefore, we expect outliers to have higher reconstruction errors because they are different from the regular data.\n",
    "\n",
    "In this model, we split the data into training and testing with 20% for the test size. Then created an encoder layer with 4 dense layers with a relu activation function and a decoder layer with also 4 dense layers with relu activation and the last layer with a sigmoid function. Activation function applies a non-linear transformation to the output from a layer. After that, we set a threshold based on percentile to identify outliers using 98% loss to identify 2% of the data as outliers.\n",
    "\n",
    "The accuracy of the model prediction was 78%. It predicted 41647 normal classes out of 42328 and 10930 anomalies out of 11323"
   ]
  },
  {
   "cell_type": "code",
   "execution_count": 22,
   "metadata": {
    "id": "F-5Sb2kusi2J"
   },
   "outputs": [],
   "source": [
    "X_train, X_test, y_train, y_test = train_test_split(\n",
    "    cliams_data, cliams_data['Label'], test_size=0.2, random_state=42)"
   ]
  },
  {
   "cell_type": "code",
   "execution_count": 23,
   "metadata": {
    "colab": {
     "base_uri": "https://localhost:8080/"
    },
    "id": "cRiZYygmAjDz",
    "outputId": "aa6d30cf-2116-410f-f79e-ef524e61fe68"
   },
   "outputs": [
    {
     "data": {
      "text/plain": [
       "(268255, 25)"
      ]
     },
     "execution_count": 23,
     "metadata": {},
     "output_type": "execute_result"
    }
   ],
   "source": [
    "cliams_data.shape"
   ]
  },
  {
   "cell_type": "code",
   "execution_count": 24,
   "metadata": {
    "id": "J-Xy-_UM-_hj"
   },
   "outputs": [],
   "source": [
    "import tensorflow as tf\n",
    "from tensorflow.keras import layers, losses"
   ]
  },
  {
   "cell_type": "code",
   "execution_count": 25,
   "metadata": {
    "id": "arPffKQM-m0p"
   },
   "outputs": [],
   "source": [
    "# take only normal data for the training dataset\n",
    "X_train_normal = X_train[y_train == 0]\n",
    "\n",
    "input = tf.keras.layers.Input(shape=(25,))\n",
    "\n",
    "encoder = tf.keras.Sequential([\n",
    "  layers.Dense(16, activation='relu'),\n",
    "  layers.Dense(8, activation='relu'),\n",
    "  layers.Dense(4, activation='relu'),\n",
    "  layers.Dense(2, activation='relu')])(input)\n",
    "\n",
    "decoder = tf.keras.Sequential([\n",
    "      layers.Dense(4, activation=\"relu\"),\n",
    "      layers.Dense(8, activation=\"relu\"),\n",
    "      layers.Dense(16, activation=\"relu\"),\n",
    "      layers.Dense(25, activation=\"sigmoid\")])(encoder)\n",
    "\n",
    "# model creation\n",
    "autoencoder = tf.keras.Model(inputs=input, outputs=decoder)"
   ]
  },
  {
   "cell_type": "code",
   "execution_count": 26,
   "metadata": {
    "colab": {
     "base_uri": "https://localhost:8080/"
    },
    "id": "IqsnVief-qXF",
    "outputId": "88123c21-866b-4a43-fe86-922fb58d8579"
   },
   "outputs": [
    {
     "name": "stdout",
     "output_type": "stream",
     "text": [
      "Epoch 1/20\n",
      "2644/2644 [==============================] - 10s 3ms/step - loss: 2806.2363 - val_loss: 2854.6038\n",
      "Epoch 2/20\n",
      "2644/2644 [==============================] - 8s 3ms/step - loss: 2806.2327 - val_loss: 2854.6038\n",
      "Epoch 3/20\n",
      "2644/2644 [==============================] - 10s 4ms/step - loss: 2806.2314 - val_loss: 2854.6038\n",
      "Epoch 4/20\n",
      "2644/2644 [==============================] - 8s 3ms/step - loss: 2806.2310 - val_loss: 2854.6038\n",
      "Epoch 5/20\n",
      "2644/2644 [==============================] - 7s 3ms/step - loss: 2806.2351 - val_loss: 2854.6038\n",
      "Epoch 6/20\n",
      "2644/2644 [==============================] - 7s 3ms/step - loss: 2806.2273 - val_loss: 2854.6038\n",
      "Epoch 7/20\n",
      "2644/2644 [==============================] - 9s 4ms/step - loss: 2806.2349 - val_loss: 2854.6038\n",
      "Epoch 8/20\n",
      "2644/2644 [==============================] - 9s 3ms/step - loss: 2806.2278 - val_loss: 2854.6038\n",
      "Epoch 9/20\n",
      "2644/2644 [==============================] - 9s 3ms/step - loss: 2806.2314 - val_loss: 2854.6038\n",
      "Epoch 10/20\n",
      "2644/2644 [==============================] - 8s 3ms/step - loss: 2806.2300 - val_loss: 2854.6038\n",
      "Epoch 11/20\n",
      "2644/2644 [==============================] - 8s 3ms/step - loss: 2806.2324 - val_loss: 2854.6038\n",
      "Epoch 12/20\n",
      "2644/2644 [==============================] - 7s 3ms/step - loss: 2806.2314 - val_loss: 2854.6038\n",
      "Epoch 13/20\n",
      "2644/2644 [==============================] - 7s 3ms/step - loss: 2806.2344 - val_loss: 2854.6038\n",
      "Epoch 14/20\n",
      "2644/2644 [==============================] - 10s 4ms/step - loss: 2806.2292 - val_loss: 2854.6038\n",
      "Epoch 15/20\n",
      "2644/2644 [==============================] - 9s 3ms/step - loss: 2806.2332 - val_loss: 2854.6038\n",
      "Epoch 16/20\n",
      "2644/2644 [==============================] - 7s 3ms/step - loss: 2806.2307 - val_loss: 2854.6038\n",
      "Epoch 17/20\n",
      "2644/2644 [==============================] - 8s 3ms/step - loss: 2806.2314 - val_loss: 2854.6038\n",
      "Epoch 18/20\n",
      "2644/2644 [==============================] - 7s 3ms/step - loss: 2806.2268 - val_loss: 2854.6038\n",
      "Epoch 19/20\n",
      "2644/2644 [==============================] - 10s 4ms/step - loss: 2806.2339 - val_loss: 2854.6038\n",
      "Epoch 20/20\n",
      "2644/2644 [==============================] - 9s 4ms/step - loss: 2806.2307 - val_loss: 2854.6038\n"
     ]
    }
   ],
   "source": [
    "autoencoder.compile(optimizer='adam', loss='mae')\n",
    "\n",
    "history = autoencoder.fit(X_train_normal, X_train_normal, \n",
    "          epochs=20, \n",
    "          batch_size=64,\n",
    "          validation_data=(X_test, X_test),\n",
    "          shuffle=True)"
   ]
  },
  {
   "cell_type": "code",
   "execution_count": 27,
   "metadata": {
    "colab": {
     "base_uri": "https://localhost:8080/",
     "height": 283
    },
    "id": "qiaVh8m60bXy",
    "outputId": "e2fbc61e-b4c8-45e0-d17c-468fabb5657b"
   },
   "outputs": [
    {
     "data": {
      "text/plain": [
       "<matplotlib.legend.Legend at 0x7f3ad6edf8e0>"
      ]
     },
     "execution_count": 27,
     "metadata": {},
     "output_type": "execute_result"
    },
    {
     "data": {
      "image/png": "[encoded data removed]",
      "text/plain": [
       "<Figure size 432x288 with 1 Axes>"
      ]
     },
     "metadata": {
      "needs_background": "light"
     },
     "output_type": "display_data"
    }
   ],
   "source": [
    "plt.plot(history.history[\"loss\"], label=\"Training Loss\")\n",
    "plt.plot(history.history[\"val_loss\"], label=\"Validation Loss\")\n",
    "plt.legend()"
   ]
  },
  {
   "cell_type": "code",
   "execution_count": 28,
   "metadata": {
    "colab": {
     "base_uri": "https://localhost:8080/"
    },
    "id": "xG3757vW-1SN",
    "outputId": "33b774eb-7062-4d14-b1ac-37430da559b5"
   },
   "outputs": [
    {
     "name": "stdout",
     "output_type": "stream",
     "text": [
      "1677/1677 [==============================] - 3s 2ms/step\n",
      "The prediction loss threshold for 2% of outliers is 6543.90\n"
     ]
    }
   ],
   "source": [
    "prediction = autoencoder.predict(X_test)\n",
    "\n",
    "# Get the mean absolute error between actual and reconstruction/prediction\n",
    "prediction_loss = tf.keras.losses.mae(prediction, X_test)\n",
    "\n",
    "# Check the prediction loss threshold for 2% of outliers\n",
    "loss_threshold = np.percentile(prediction_loss, 98)\n",
    "print(f'The prediction loss threshold for 2% of outliers is {loss_threshold:.2f}')"
   ]
  },
  {
   "cell_type": "code",
   "execution_count": 29,
   "metadata": {
    "colab": {
     "base_uri": "https://localhost:8080/"
    },
    "id": "5gQY2QmL-5dI",
    "outputId": "2781f5b1-8cbc-4246-fccd-5418472db33a"
   },
   "outputs": [
    {
     "name": "stdout",
     "output_type": "stream",
     "text": [
      "CONFUSION MATRIX:\n",
      " [[41647   681]\n",
      " [10930   393]]\n",
      "\n",
      "Classification Report:\n",
      "               precision    recall  f1-score   support\n",
      "\n",
      "           0       0.79      0.98      0.88     42328\n",
      "           1       0.37      0.03      0.06     11323\n",
      "\n",
      "    accuracy                           0.78     53651\n",
      "   macro avg       0.58      0.51      0.47     53651\n",
      "weighted avg       0.70      0.78      0.71     53651\n",
      "\n"
     ]
    }
   ],
   "source": [
    "# Check the model performance at 2% threshold\n",
    "threshold_prediction = [0 if i < loss_threshold else 1 for i in prediction_loss]\n",
    "\n",
    "# prediction performance\n",
    "print('CONFUSION MATRIX:\\n', confusion_matrix(y_test, threshold_prediction))\n",
    "\n",
    "print(\"\\nClassification Report:\\n\", classification_report(y_test, threshold_prediction))"
   ]
  },
  {
   "cell_type": "markdown",
   "metadata": {
    "id": "XmFgReGX42zO"
   },
   "source": [
    "# 4. Conclusion"
   ]
  },
  {
   "cell_type": "markdown",
   "metadata": {
    "id": "LRF4a6ZEL96l"
   },
   "source": [
    "In this project, we performed an unsupervised learning technique on the vehicle claims dataset to predict outliers using Isolation Forest and Autoencoders. We learned how to encode categorical data types using a label encoder. Both models performed relatively close and gave 79% and 78% accuracy using Isolation Forest and Autoencoders respectively. Although, the Autoencoders were predicted on 20% of the total data, unlike Isolation Forest.\n",
    "\n",
    "In future work, we suggest using a one-hot encoding technique and comparing the result with the use of a label encoder."
   ]
  },
  {
   "cell_type": "markdown",
   "metadata": {
    "id": "ESKgMbj1S5tD"
   },
   "source": [
    "# 5. References \n",
    "Chawda, A., Grimm, S., & Kloft, M. (2022). Unsupervised Anomaly Detection for Auditing Data and Impact of Categorical Encodings. http://arxiv.org/abs/2210.14056"
   ]
  },
  {
   "cell_type": "markdown",
   "metadata": {},
   "source": []
  }
 ],
 "metadata": {
  "colab": {
   "provenance": []
  },
  "kernelspec": {
   "display_name": "Python 3 (ipykernel)",
   "language": "python",
   "name": "python3"
  },
  "language_info": {
   "codemirror_mode": {
    "name": "ipython",
    "version": 3
   },
   "file_extension": ".py",
   "mimetype": "text/x-python",
   "name": "python",
   "nbconvert_exporter": "python",
   "pygments_lexer": "ipython3",
   "version": "3.9.12"
  }
 },
 "nbformat": 4,
 "nbformat_minor": 1
}
